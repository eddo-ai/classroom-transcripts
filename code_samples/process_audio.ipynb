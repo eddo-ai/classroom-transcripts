{
 "cells": [
  {
   "cell_type": "code",
   "execution_count": 17,
   "metadata": {},
   "outputs": [],
   "source": [
    "# Call assemblyai api to process audio\n",
    "\n",
    "import assemblyai as aai\n",
    "from datetime import timedelta, datetime, timezone\n",
    "import os\n",
    "from azure.storage.blob import BlobSasPermissions, BlobClient, generate_blob_sas\n"
   ]
  },
  {
   "cell_type": "code",
   "execution_count": 22,
   "metadata": {},
   "outputs": [
    {
     "data": {
      "text/plain": [
       "'st=2025-02-10T14%3A52%3A37Z&se=2025-02-10T15%3A57%3A37Z&sp=r&spr=https&sv=2025-01-05&sr=b&sig=EvA5JJG0PfSECAHKYZrdgQM2eS/QZX9ZB11FS8XdL5A%3D'"
      ]
     },
     "execution_count": 22,
     "metadata": {},
     "output_type": "execute_result"
    }
   ],
   "source": [
    "# Retrieve a read only SAS url for the blob\n",
    "blob_client = BlobClient.from_blob_url(\"https://classroomtranscripts.blob.core.windows.net/uploads/SW Millikan Way 3.m4a\")\n",
    "blob_service_client = BlobServiceClient.from_connection_string(os.getenv(\"AZURE_STORAGE_CONNECTION_STRING\"))\n",
    "sas_expiry = datetime.now(timezone.utc) + timedelta(hours=1)\n",
    "sas_start = datetime.now(timezone.utc) - timedelta(minutes=5)\n",
    "blob_sas = generate_blob_sas(\n",
    "    account_name=blob_client.account_name,\n",
    "    container_name=blob_client.container_name,\n",
    "    blob_name=blob_client.blob_name,\n",
    "    permission=BlobSasPermissions(read=True),\n",
    "    expiry=sas_expiry,\n",
    "    start=sas_start,\n",
    "    protocol=\"https\",\n",
    "    account_key=blob_service_client.credential.account_key,\n",
    ") \n",
    "blob_sas"
   ]
  },
  {
   "cell_type": "code",
   "execution_count": 32,
   "metadata": {},
   "outputs": [
    {
     "data": {
      "text/plain": [
       "'https://classroomtranscripts.blob.core.windows.net/uploads/SW Millikan Way 3.m4a?st=2025-02-10T14%3A52%3A37Z&se=2025-02-10T15%3A57%3A37Z&sp=r&spr=https&sv=2025-01-05&sr=b&sig=EvA5JJG0PfSECAHKYZrdgQM2eS/QZX9ZB11FS8XdL5A%3D'"
      ]
     },
     "execution_count": 32,
     "metadata": {},
     "output_type": "execute_result"
    }
   ],
   "source": [
    "# Construct the SAS URL\n",
    "blob_url = f\"https://{blob_client.account_name}.blob.core.windows.net/{blob_client.container_name}/{blob_client.blob_name}\"\n",
    "sas_url = f\"{blob_url}?{blob_sas}\"\n",
    "sas_url"
   ]
  },
  {
   "cell_type": "code",
   "execution_count": 34,
   "metadata": {},
   "outputs": [
    {
     "name": "stdout",
     "output_type": "stream",
     "text": [
      "Blob SAS URL: https://classroomtranscripts.blob.core.windows.net/uploads/SW%20Millikan%20Way%203.m4a?st=2025-02-10T14%3A52%3A37Z&se=2025-02-10T15%3A57%3A37Z&sp=r&spr=https&sv=2025-01-05&sr=b&sig=EvA5JJG0PfSECAHKYZrdgQM2eS/QZX9ZB11FS8XdL5A%3D\n"
     ]
    }
   ],
   "source": [
    "# Format the blob sas url with escaped spaces\n",
    "blob_sas_url = sas_url.replace(\" \", \"%20\")\n",
    "blob_sas_url\n",
    "print(f\"Blob SAS URL: {blob_sas_url}\")\n"
   ]
  },
  {
   "cell_type": "code",
   "execution_count": null,
   "metadata": {},
   "outputs": [],
   "source": [
    "# Download the blob\n",
    "blob_data = blob_client.download_blob().readall()\n",
    "blob_data"
   ]
  },
  {
   "cell_type": "code",
   "execution_count": 36,
   "metadata": {},
   "outputs": [
    {
     "data": {
      "text/plain": [
       "<assemblyai.transcriber.Transcript at 0x109bae7b0>"
      ]
     },
     "execution_count": 36,
     "metadata": {},
     "output_type": "execute_result"
    }
   ],
   "source": [
    "aai.settings.api_key = os.getenv(\"ASSEMBLYAI_API_KEY\")\n",
    "\n",
    "transcriber = aai.Transcriber()\n",
    "\n",
    "# transcript = transcriber.upload_file(\n",
    "#     \"https://classroomtranscripts.blob.core.windows.net/uploads/SW Millikan Way 3.m4a\"\n",
    "# )\n",
    "transcript = transcriber.transcribe(blob_sas_url)\n",
    "transcript"
   ]
  },
  {
   "cell_type": "code",
   "execution_count": 38,
   "metadata": {},
   "outputs": [
    {
     "data": {
      "text/plain": [
       "\"First of all, she said this was the best PD that she's ever been to. So, Chad, really, like, over the top. She's effusive. And she was really grateful to Kim for reaching out, for offering to reach out to her essential resources and to be someone she could be in contact with. So in the interview, we explored the importance of having access to a community to ask questions. So I think. I know you guys are building that out, so I think that that is something that people are really looking for. Good. Yeah, that's valid. Yeah. She's very much alone in her school. That's the trend that I noticed here, was that remoteness of, hey, I'm the only one. It's not that I'm the only one in my district teaching biology. I'm the only one teaching science 6th grade through 12th grade. I'm the only one. And I would bet that would only serve. That. I don't imagine that would replace the desire to come back next year. I would think that would even. Yeah. Increase it. And that might be a third of the teachers north. Because the. The urban metro is the only. Like every other district. Even like Lane County. Yeah, mostly. And so a big part of it for us is figuring out the marketing arm of things because we have to get the word out to enough people to make it pay for us. We have never, as a nonprofit, we say it's nice to make a profit a little bit, but we just have to cover our costs. And if we can't cover our costs, we have to find grants and other ways to fund what we're not covering. I think from the folks I talk to, if you. If you. Well, I think there's tons in elementary. The trick there, though, is they're not a dictation. Right. They're not even just science, but that's happening. There's a lot of element going on. Yeah. Well, one of the. One of the respondents this. She said she wasn't even a science teacher. So I think getting more testimonials from people like that where they can. From zero to 60. Yeah. Right. And foreign energy, the headquarters, all of that. That's at the elementary level. Right. Like, that is a dedicated resource to science that maybe comes here. Not always, though. I mean, I guess I struggle with that. I mean, it's. Sometimes they're curriculum people, sometimes they are science specific. I only see science specific if the district is big enough. Got it. So, yeah, that's challenging. Don't want to leave a mess behind.\""
      ]
     },
     "execution_count": 38,
     "metadata": {},
     "output_type": "execute_result"
    }
   ],
   "source": [
    "transcript.text"
   ]
  }
 ],
 "metadata": {
  "kernelspec": {
   "display_name": ".venv",
   "language": "python",
   "name": "python3"
  },
  "language_info": {
   "codemirror_mode": {
    "name": "ipython",
    "version": 3
   },
   "file_extension": ".py",
   "mimetype": "text/x-python",
   "name": "python",
   "nbconvert_exporter": "python",
   "pygments_lexer": "ipython3",
   "version": "3.12.6"
  }
 },
 "nbformat": 4,
 "nbformat_minor": 2
}
